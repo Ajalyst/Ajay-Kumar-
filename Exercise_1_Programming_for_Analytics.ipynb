{
  "nbformat": 4,
  "nbformat_minor": 0,
  "metadata": {
    "colab": {
      "provenance": [],
      "authorship_tag": "ABX9TyOJ4rqRLQAtRIs/AzwDSCmS",
      "include_colab_link": true
    },
    "kernelspec": {
      "name": "python3",
      "display_name": "Python 3"
    },
    "language_info": {
      "name": "python"
    }
  },
  "cells": [
    {
      "cell_type": "markdown",
      "metadata": {
        "id": "view-in-github",
        "colab_type": "text"
      },
      "source": [
        "<a href=\"https://colab.research.google.com/github/Ajalyst/Ajay-Kumar-/blob/main/Exercise_1_Programming_for_Analytics.ipynb\" target=\"_parent\"><img src=\"https://colab.research.google.com/assets/colab-badge.svg\" alt=\"Open In Colab\"/></a>"
      ]
    },
    {
      "cell_type": "markdown",
      "source": [
        "EXERCISE 1-PROGRAMMING FOR ANALYTICS"
      ],
      "metadata": {
        "id": "4O5HAU5hGDzX"
      }
    },
    {
      "cell_type": "markdown",
      "source": [
        "Q.1"
      ],
      "metadata": {
        "id": "wXRo59rbGFl4"
      }
    },
    {
      "cell_type": "code",
      "source": [
        "Num1 = int(input(\"Enter First Integer : \"))\n",
        "Num2 = int(input(\"Enter Second Integer : \"))\n",
        "\n",
        "if Num1 < Num2:\n",
        "    print(\"First number is less than the second\")\n",
        "elif Num1 > Num2:\n",
        "    print( \"Second number is less than the first\")\n",
        "elif Num1 == Num2:\n",
        "    print(\"The numbers are equal\")"
      ],
      "metadata": {
        "colab": {
          "base_uri": "https://localhost:8080/"
        },
        "id": "H24tyrbjH2hW",
        "outputId": "b3c89780-df5e-4c60-9bc3-85a3862f56e3"
      },
      "execution_count": null,
      "outputs": [
        {
          "output_type": "stream",
          "name": "stdout",
          "text": [
            "Enter First Integer : 33\n",
            "Enter Second Integer : 23\n",
            "Second number is less than the first\n"
          ]
        }
      ]
    },
    {
      "cell_type": "markdown",
      "source": [
        "Q.2"
      ],
      "metadata": {
        "id": "2fKKXBqqIN57"
      }
    },
    {
      "cell_type": "code",
      "source": [
        "age = int(input(\"Enter Age : \"))\n",
        "\n",
        "if age >= 18:\n",
        "    print(\"You are eligibel to vote\")\n",
        "else:\n",
        "    print(\"You Cannot Vote\")"
      ],
      "metadata": {
        "colab": {
          "base_uri": "https://localhost:8080/"
        },
        "id": "7aZPs1pbIP0H",
        "outputId": "309b6ce1-5c39-4c2a-c4c7-41be9f9f707b"
      },
      "execution_count": null,
      "outputs": [
        {
          "output_type": "stream",
          "name": "stdout",
          "text": [
            "Enter Age : 45\n",
            "You are eligibel to vote\n"
          ]
        }
      ]
    },
    {
      "cell_type": "markdown",
      "source": [
        "Q.3"
      ],
      "metadata": {
        "id": "evNATo67IaSm"
      }
    },
    {
      "cell_type": "code",
      "source": [
        "age = int(input(\"Please enter your age : \"))\n",
        "\n",
        "if 18 <= age <= 30:\n",
        "    print(\"You are eligible to go on vacation!!!\")\n",
        "else:\n",
        "    print(\"Sorry! you are not eligible.\")"
      ],
      "metadata": {
        "colab": {
          "base_uri": "https://localhost:8080/"
        },
        "id": "tseIt4IMIbc0",
        "outputId": "5e5c7bac-c6f5-485d-966d-cfeeffa5f13f"
      },
      "execution_count": null,
      "outputs": [
        {
          "output_type": "stream",
          "name": "stdout",
          "text": [
            "Please enter your age : 43\n",
            "Sorry! you are not eligible.\n"
          ]
        }
      ]
    },
    {
      "cell_type": "markdown",
      "source": [
        "Q.4"
      ],
      "metadata": {
        "id": "gFsIePSVIjRL"
      }
    },
    {
      "cell_type": "code",
      "source": [
        "Salary = float(input(\"Enter your salary in EUROS please : \"))\n",
        "\n",
        "if Salary <= 10000:\n",
        "    print(\"You don't pay any Tax\")\n",
        "elif 10000 <= Salary <= 50000:\n",
        "    s = Salary - 10000\n",
        "    print(\"You need to pay 20% Tax\")\n",
        "    print(\"You pay \", s*0.2,\" in TAX\")\n",
        "elif Salary > 50000:\n",
        "    s = Salary - 50000\n",
        "    print(\"You need to pay 40% Tax\")\n",
        "    print(\"You pay \", 8000+(s*0.4),\" in TAX\")"
      ],
      "metadata": {
        "colab": {
          "base_uri": "https://localhost:8080/"
        },
        "id": "zuIlm_xKIkg1",
        "outputId": "cc5fcb8b-3fe9-4062-f2e7-bfa7c48aa583"
      },
      "execution_count": null,
      "outputs": [
        {
          "output_type": "stream",
          "name": "stdout",
          "text": [
            "Enter your salary in EUROS please : 50000\n",
            "You need to pay 20% Tax\n",
            "You pay  8000.0  in TAX\n"
          ]
        }
      ]
    },
    {
      "cell_type": "markdown",
      "source": [
        "Q.5"
      ],
      "metadata": {
        "id": "3fKiyguVIqBm"
      }
    },
    {
      "cell_type": "code",
      "source": [
        "num = int(input(\"Enter a Number from the following List [1,2,3,4] : \"))\n",
        "\n",
        "if num == 1:\n",
        "    print(\"1 = Diamonds\")\n",
        "elif num == 2:\n",
        "    print(\"2 = Hearts\")\n",
        "elif num == 3:\n",
        "    print(\"3 = Clubs\")\n",
        "elif num == 4:\n",
        "    print(\"4 = Spades\")\n",
        "else:\n",
        "    print(\"You entered incorrect value!!!\")"
      ],
      "metadata": {
        "colab": {
          "base_uri": "https://localhost:8080/"
        },
        "id": "wB2hJZe4IrDr",
        "outputId": "16010211-9188-46c8-d4d2-c2e3e5f64c40"
      },
      "execution_count": null,
      "outputs": [
        {
          "output_type": "stream",
          "name": "stdout",
          "text": [
            "Enter a Number from the following List [1,2,3,4] : 2\n",
            "2 = Hearts\n"
          ]
        }
      ]
    },
    {
      "cell_type": "markdown",
      "source": [
        "Q.6"
      ],
      "metadata": {
        "id": "KFAjrj_jI1dO"
      }
    },
    {
      "cell_type": "code",
      "source": [
        "print(\"Welcome to the SimpleCacl \\n\\nPress 1 to add two numbers\\n\\nPress 2 to subtract two numbers\\n\\nPress 3 to divide two numbers\\n\\nPress 4 to multiple two numbers \\n\")\n",
        "\n",
        "n = int(input(\"Choose number to be entered : \"))\n",
        "\n",
        "if n == 1:\n",
        "    a = float(input(\"Enter 1st Number : \"))\n",
        "    b = float(input(\"Enter 2nd Number : \"))\n",
        "    print(\"ADDITION = \",a+b)\n",
        "\n",
        "elif n == 2:\n",
        "    a = float(input(\"Enter 1st Number : \"))\n",
        "    b = float(input(\"Enter 2nd Number : \"))\n",
        "    print(\"SUBTRACTION = \",a-b)\n",
        "\n",
        "elif n == 3:\n",
        "    a = float(input(\"Enter 1st Number : \"))\n",
        "    b = float(input(\"Enter 2nd Number : \"))\n",
        "    print(\"DIVISION = \",a/b)\n",
        "\n",
        "elif n == 4:\n",
        "    a = float(input(\"Enter 1st Number : \"))\n",
        "    b = float(input(\"Enter 2nd Number : \"))\n",
        "    print(\"MULTIPLICATION = \",a*b)\n",
        "\n",
        "else:\n",
        "    print(\"!!YOU ENTERED WRONG CHOICE!!\")"
      ],
      "metadata": {
        "colab": {
          "base_uri": "https://localhost:8080/"
        },
        "id": "MZ-sExznI2KV",
        "outputId": "a4c72b56-31d0-4673-94e0-6a644a6cd774"
      },
      "execution_count": null,
      "outputs": [
        {
          "output_type": "stream",
          "name": "stdout",
          "text": [
            "Welcome to the SimpleCacl \n",
            "\n",
            "Press 1 to add two numbers\n",
            "\n",
            "Press 2 to subtract two numbers\n",
            "\n",
            "Press 3 to divide two numbers\n",
            "\n",
            "Press 4 to multiple two numbers \n",
            "\n",
            "Choose number to be entered : 2\n",
            "Enter 1st Number : 1\n",
            "Enter 2nd Number : 22\n",
            "SUBTRACTION =  -21.0\n"
          ]
        }
      ]
    }
  ]
}